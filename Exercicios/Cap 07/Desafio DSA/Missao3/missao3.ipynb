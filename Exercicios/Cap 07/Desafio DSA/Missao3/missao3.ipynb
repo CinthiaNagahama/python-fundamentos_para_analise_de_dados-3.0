{
 "cells": [
  {
   "cell_type": "markdown",
   "metadata": {},
   "source": [
    "# <font color='blue'>Data Science Academy - Python Fundamentos - Capítulo 7</font>\n",
    "\n",
    "## Download: http://github.com/dsacademybr"
   ]
  },
  {
   "cell_type": "code",
   "execution_count": 1,
   "metadata": {},
   "outputs": [
    {
     "name": "stdout",
     "output_type": "stream",
     "text": [
      "Versão da Linguagem Python Usada Neste Jupyter Notebook: 3.8.8\n"
     ]
    }
   ],
   "source": [
    "# Versão da Linguagem Python\n",
    "from platform import python_version\n",
    "print('Versão da Linguagem Python Usada Neste Jupyter Notebook:', python_version())"
   ]
  },
  {
   "cell_type": "markdown",
   "metadata": {},
   "source": [
    "## Missão: Implementar um algoritmo para mover um robô do canto superior esquerdo para o canto inferior direito de uma grade."
   ]
  },
  {
   "cell_type": "markdown",
   "metadata": {},
   "source": [
    "## Nível de Dificuldade: Médio"
   ]
  },
  {
   "cell_type": "markdown",
   "metadata": {},
   "source": [
    "## Premissas\n",
    "\n",
    "* Existem restrições de como o robô se move?\n",
    "     * O robô só pode se mover para a direita e para baixo\n",
    "* Algumas células são inválidas (fora dos limites)?\n",
    "     * Sim\n",
    "* Podemos supor que as células inicial e final são células válidas?\n",
    "     * Sim\n",
    "* Isso é uma grade retangular? ou seja, a grade não é irregular?\n",
    "     * Sim\n",
    "* Haverá sempre uma maneira válida para o robô chegar ao canto inferior direito?\n",
    "     * Não, retorno None\n",
    "* Podemos assumir que as entradas são válidas?\n",
    "     * Não\n",
    "* Podemos supor que isso se encaixa na memória?\n",
    "     * Sim"
   ]
  },
  {
   "cell_type": "markdown",
   "metadata": {},
   "source": [
    "## Teste Cases\n",
    "\n",
    "<pre>\n",
    "o = célula válida\n",
    "x = célula inválida\n",
    "\n",
    "   0  1  2  3\n",
    "0  o  o  o  o\n",
    "1  o  x  o  o\n",
    "2  o  o  x  o\n",
    "3  x  o  o  o\n",
    "4  o  o  x  o\n",
    "5  o  o  o  x\n",
    "6  o  x  o  x\n",
    "7  o  x  o  o\n",
    "</pre>\n",
    "\n",
    "* Caso geral\n",
    "\n",
    "```\n",
    "Saída esperada = [(0, 0), (1, 0), (2, 0),\n",
    "                  (2, 1), (3, 1), (4, 1),\n",
    "                  (5, 1), (5, 2), (6, 2), \n",
    "                  (7, 2), (7, 3)]\n",
    "```\n",
    "\n",
    "* Nenhum caminho válido, por exemplo, linha 7, col 2 é inválido\n",
    "* Nenhuma entrada\n",
    "* Matriz vazia"
   ]
  },
  {
   "cell_type": "markdown",
   "metadata": {},
   "source": [
    "## Solução"
   ]
  },
  {
   "cell_type": "code",
   "execution_count": 138,
   "metadata": {},
   "outputs": [],
   "source": [
    "import numpy as np\n",
    "from typing import Union\n",
    "\n",
    "class Grid(object):\n",
    "\n",
    "    def find_path(self, matrix: list) -> Union[list, None]:\n",
    "        # Valida a matrix\n",
    "        #   Se o valor de entrada for None, retorna None\n",
    "        if matrix is None:\n",
    "            return None\n",
    "        \n",
    "        # Transforma a matrix em uma np.array\n",
    "        matrix_np = np.array(matrix, dtype=bool)\n",
    "        \n",
    "        # Checa se a origem e o fim são válidos\n",
    "        if 0 in matrix_np.shape:\n",
    "            return None\n",
    "\n",
    "        # Encontra os blocos em que é possível formar um caminho, iniciando-se no destino\n",
    "        nonzero_ind = list(zip(matrix_np.nonzero()[0], matrix_np.nonzero()[1]))\n",
    "        nonzero_ind.reverse()\n",
    "\n",
    "        x, y = nonzero_ind[0]\n",
    "        valid_blocks = [(x, y)]\n",
    "\n",
    "        for i, (x, y) in enumerate(nonzero_ind, 1):            \n",
    "            for aux_x, aux_y in nonzero_ind:\n",
    "                if (x, y) not in valid_blocks:\n",
    "                    # Checa se não é um beco sem saída (os blocos à esquerda e acima são inválidos)\n",
    "                    if x - 1 >= 0 and y - 1 >= 0:\n",
    "                        if not matrix_np[x - 1, y] and not matrix_np[x, y - 1]:\n",
    "                            continue\n",
    "                    # Checa se a posição atual está a esquerda ou acima de alguma outra posição válida\n",
    "                    if (x, y) == (aux_x, aux_y - 1):\n",
    "                        valid_blocks.append((x, y))\n",
    "\n",
    "                    elif (x, y) == (aux_x - 1, aux_y):\n",
    "                        valid_blocks.append((x, y))\n",
    "\n",
    "        # Retorna um caminho possível, priorizando a movimentação vertical\n",
    "        #   Ordena os blocos válidos pela coluna\n",
    "        valid_blocks.sort(key=lambda x: x[1], reverse=True)\n",
    "\n",
    "\n",
    "        path = [valid_blocks.pop(0)]\n",
    "        i = 0\n",
    "\n",
    "        # Monta o caminho começando pelo destino\n",
    "        while valid_blocks:\n",
    "            (x, y) = valid_blocks.pop(0)\n",
    "            (aux_x, aux_y) = path[i]\n",
    "            if (y == aux_y and x == aux_x - 1) or (y == aux_y - 1 and x == aux_x):\n",
    "                path.append((x, y))\n",
    "                i += 1\n",
    "\n",
    "        path.reverse()\n",
    "        return path if len(path) > 1 else None\n",
    "\n"
   ]
  },
  {
   "cell_type": "code",
   "execution_count": null,
   "metadata": {},
   "outputs": [],
   "source": [
    "# Testes Extras\n",
    "\n",
    "# g = Grid()\n",
    "# print(g.find_path([\n",
    "#     [1, 0, 0], \n",
    "#     [1, 1, 1], \n",
    "#     [1, 0, 1]\n",
    "# ]))\n",
    "# print(g.find_path([\n",
    "#     [1, 0, 0, 0],\n",
    "#     [1, 0, 1, 1],\n",
    "#     [1, 1, 1, 1],\n",
    "#     [0, 1, 1 ,1],\n",
    "# ]))\n",
    "# print(g.find_path([\n",
    "#     [1, 1, 1, 1],\n",
    "#     [1, 0, 1, 1],\n",
    "#     [1, 0, 1, 1],\n",
    "#     [0, 1, 1 ,1],\n",
    "# ]))\n",
    "# max_rows = 8\n",
    "# max_cols = 4\n",
    "# matrix = [[1] * max_cols for _ in range(max_rows)]\n",
    "# matrix[1][1] = 0\n",
    "# matrix[2][2] = 0\n",
    "# matrix[3][0] = 0\n",
    "# matrix[4][2] = 0\n",
    "# matrix[5][3] = 0\n",
    "# matrix[6][1] = 0\n",
    "# matrix[6][3] = 0\n",
    "# matrix[7][1] = 0\n",
    "# matrix[7][2] = 0\n",
    "# print(*matrix, sep=\"\\n\")\n",
    "# print(g.find_path(matrix))"
   ]
  },
  {
   "cell_type": "markdown",
   "metadata": {},
   "source": [
    "## Teste da Solução"
   ]
  },
  {
   "cell_type": "code",
   "execution_count": 139,
   "metadata": {},
   "outputs": [
    {
     "name": "stdout",
     "output_type": "stream",
     "text": [
      "Overwriting missao3.py\n"
     ]
    }
   ],
   "source": [
    "%%writefile missao3.py\n",
    "from nose.tools import assert_equal\n",
    "\n",
    "\n",
    "class TestGridPath(object):\n",
    "\n",
    "    def test_grid_path(self):\n",
    "        grid = Grid()\n",
    "        assert_equal(grid.find_path(None), None)\n",
    "        assert_equal(grid.find_path([[]]), None)\n",
    "        max_rows = 8\n",
    "        max_cols = 4\n",
    "        matrix = [[1] * max_cols for _ in range(max_rows)]\n",
    "        matrix[1][1] = 0\n",
    "        matrix[2][2] = 0\n",
    "        matrix[3][0] = 0\n",
    "        matrix[4][2] = 0\n",
    "        matrix[5][3] = 0\n",
    "        matrix[6][1] = 0\n",
    "        matrix[6][3] = 0\n",
    "        matrix[7][1] = 0\n",
    "        result = grid.find_path(matrix)\n",
    "        expected = [(0, 0), (1, 0), (2, 0),\n",
    "                    (2, 1), (3, 1), (4, 1),\n",
    "                    (5, 1), (5, 2), (6, 2), \n",
    "                    (7, 2), (7, 3)]\n",
    "        assert_equal(result, expected)\n",
    "        matrix[7][2] = 0\n",
    "        result = grid.find_path(matrix)\n",
    "        assert_equal(result, None)\n",
    "        print('Sua solução foi executada com sucesso! Parabéns!')\n",
    "\n",
    "\n",
    "def main():\n",
    "    test = TestGridPath()\n",
    "    test.test_grid_path()\n",
    "\n",
    "\n",
    "if __name__ == '__main__':\n",
    "    main()"
   ]
  },
  {
   "cell_type": "code",
   "execution_count": 140,
   "metadata": {},
   "outputs": [
    {
     "name": "stdout",
     "output_type": "stream",
     "text": [
      "Sua solução foi executada com sucesso! Parabéns!\n"
     ]
    }
   ],
   "source": [
    "%run -i missao3.py"
   ]
  },
  {
   "cell_type": "markdown",
   "metadata": {},
   "source": [
    "## Fim"
   ]
  },
  {
   "cell_type": "markdown",
   "metadata": {},
   "source": [
    "\n",
    "### Obrigado\n",
    "\n",
    "### Visite o Blog da Data Science Academy - <a href=\"http://blog.dsacademy.com.br\">Blog DSA</a>\n"
   ]
  }
 ],
 "metadata": {
  "kernelspec": {
   "display_name": "Python 3",
   "language": "python",
   "name": "python3"
  },
  "language_info": {
   "codemirror_mode": {
    "name": "ipython",
    "version": 3
   },
   "file_extension": ".py",
   "mimetype": "text/x-python",
   "name": "python",
   "nbconvert_exporter": "python",
   "pygments_lexer": "ipython3",
   "version": "3.9.7"
  }
 },
 "nbformat": 4,
 "nbformat_minor": 1
}
