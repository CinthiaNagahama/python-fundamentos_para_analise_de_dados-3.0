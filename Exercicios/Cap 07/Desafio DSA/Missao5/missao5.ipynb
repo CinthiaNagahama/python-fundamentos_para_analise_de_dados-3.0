{
 "cells": [
  {
   "cell_type": "markdown",
   "metadata": {},
   "source": [
    "# <font color='blue'>Data Science Academy - Python Fundamentos - Capítulo 7</font>\n",
    "\n",
    "## Download: http://github.com/dsacademybr"
   ]
  },
  {
   "cell_type": "code",
   "execution_count": null,
   "metadata": {},
   "outputs": [],
   "source": [
    "# Versão da Linguagem Python\n",
    "from platform import python_version\n",
    "print('Versão da Linguagem Python Usada Neste Jupyter Notebook:', python_version())"
   ]
  },
  {
   "cell_type": "markdown",
   "metadata": {},
   "source": [
    "## Missão: Analisar o Comportamento de Compra de Consumidores."
   ]
  },
  {
   "cell_type": "markdown",
   "metadata": {},
   "source": [
    "## Nível de Dificuldade: Alto"
   ]
  },
  {
   "cell_type": "markdown",
   "metadata": {},
   "source": [
    "Você recebeu a tarefa de analisar os dados de compras de um web site! Os dados estão no formato JSON e disponíveis junto com este notebook.\n",
    "\n",
    "No site, cada usuário efetua login usando sua conta pessoal e pode adquirir produtos à medida que navega pela lista de produtos oferecidos. Cada produto possui um valor de venda. Dados de idade e sexo de cada usuário foram coletados e estão fornecidos no arquivo JSON.\n",
    "\n",
    "Seu trabalho é entregar uma análise de comportamento de compra dos consumidores. Esse é um tipo de atividade comum realizado por Cientistas de Dados e o resultado deste trabalho pode ser usado, por exemplo, para alimentar um modelo de Machine Learning e fazer previsões sobre comportamentos futuros.\n",
    "\n",
    "Mas nesta missão você vai analisar o comportamento de compra dos consumidores usando o pacote Pandas da linguagem Python e seu relatório final deve incluir cada um dos seguintes itens:\n",
    "\n",
    "** Contagem de Consumidores **\n",
    "\n",
    "* Número total de consumidores\n",
    "\n",
    "\n",
    "** Análise Geral de Compras **\n",
    "\n",
    "* Número de itens exclusivos\n",
    "* Preço médio de compra\n",
    "* Número total de compras\n",
    "* Rendimento total\n",
    "\n",
    "\n",
    "** Informações Demográficas Por Gênero **\n",
    "\n",
    "* Porcentagem e contagem de compradores do sexo masculino\n",
    "* Porcentagem e contagem de compradores do sexo feminino\n",
    "* Porcentagem e contagem de outros / não divulgados\n",
    "\n",
    "\n",
    "** Análise de Compras Por Gênero **\n",
    "\n",
    "* Número de compras\n",
    "* Preço médio de compra\n",
    "* Valor Total de Compra\n",
    "* Compras for faixa etária\n",
    "\n",
    "\n",
    "** Identifique os 5 principais compradores pelo valor total de compra e, em seguida, liste (em uma tabela): **\n",
    "\n",
    "* Login\n",
    "* Número de compras\n",
    "* Preço médio de compra\n",
    "* Valor Total de Compra\n",
    "* Itens mais populares\n",
    "\n",
    "\n",
    "** Identifique os 5 itens mais populares por contagem de compras e, em seguida, liste (em uma tabela): **\n",
    "\n",
    "* ID do item\n",
    "* Nome do item\n",
    "* Número de compras\n",
    "* Preço do item\n",
    "* Valor Total de Compra\n",
    "* Itens mais lucrativos\n",
    "\n",
    "\n",
    "** Identifique os 5 itens mais lucrativos pelo valor total de compra e, em seguida, liste (em uma tabela): **\n",
    "\n",
    "* ID do item\n",
    "* Nome do item\n",
    "* Número de compras\n",
    "* Preço do item\n",
    "* Valor Total de Compra\n",
    "\n",
    "\n",
    "** Como considerações finais: **\n",
    "\n",
    "* Seu script deve funcionar para o conjunto de dados fornecido.\n",
    "* Você deve usar a Biblioteca Pandas e o Jupyter Notebook.\n"
   ]
  },
  {
   "cell_type": "code",
   "execution_count": 1,
   "metadata": {},
   "outputs": [],
   "source": [
    "# Imports\n",
    "import pandas as pd\n",
    "import numpy as np"
   ]
  },
  {
   "cell_type": "code",
   "execution_count": 2,
   "metadata": {},
   "outputs": [
    {
     "data": {
      "text/html": [
       "<div>\n",
       "<style scoped>\n",
       "    .dataframe tbody tr th:only-of-type {\n",
       "        vertical-align: middle;\n",
       "    }\n",
       "\n",
       "    .dataframe tbody tr th {\n",
       "        vertical-align: top;\n",
       "    }\n",
       "\n",
       "    .dataframe thead th {\n",
       "        text-align: right;\n",
       "    }\n",
       "</style>\n",
       "<table border=\"1\" class=\"dataframe\">\n",
       "  <thead>\n",
       "    <tr style=\"text-align: right;\">\n",
       "      <th></th>\n",
       "      <th>Login</th>\n",
       "      <th>Idade</th>\n",
       "      <th>Sexo</th>\n",
       "      <th>Item ID</th>\n",
       "      <th>Nome do Item</th>\n",
       "      <th>Valor</th>\n",
       "    </tr>\n",
       "  </thead>\n",
       "  <tbody>\n",
       "    <tr>\n",
       "      <th>0</th>\n",
       "      <td>Aelalis34</td>\n",
       "      <td>38</td>\n",
       "      <td>Masculino</td>\n",
       "      <td>165</td>\n",
       "      <td>Bone Crushing Silver Skewer</td>\n",
       "      <td>3.37</td>\n",
       "    </tr>\n",
       "    <tr>\n",
       "      <th>1</th>\n",
       "      <td>Eolo46</td>\n",
       "      <td>21</td>\n",
       "      <td>Masculino</td>\n",
       "      <td>119</td>\n",
       "      <td>Stormbringer, Dark Blade of Ending Misery</td>\n",
       "      <td>2.32</td>\n",
       "    </tr>\n",
       "    <tr>\n",
       "      <th>2</th>\n",
       "      <td>Assastnya25</td>\n",
       "      <td>34</td>\n",
       "      <td>Masculino</td>\n",
       "      <td>174</td>\n",
       "      <td>Primitive Blade</td>\n",
       "      <td>2.46</td>\n",
       "    </tr>\n",
       "    <tr>\n",
       "      <th>3</th>\n",
       "      <td>Pheusrical25</td>\n",
       "      <td>21</td>\n",
       "      <td>Masculino</td>\n",
       "      <td>92</td>\n",
       "      <td>Final Critic</td>\n",
       "      <td>1.36</td>\n",
       "    </tr>\n",
       "    <tr>\n",
       "      <th>4</th>\n",
       "      <td>Aela59</td>\n",
       "      <td>23</td>\n",
       "      <td>Masculino</td>\n",
       "      <td>63</td>\n",
       "      <td>Stormfury Mace</td>\n",
       "      <td>1.27</td>\n",
       "    </tr>\n",
       "    <tr>\n",
       "      <th>5</th>\n",
       "      <td>Tanimnya91</td>\n",
       "      <td>20</td>\n",
       "      <td>Masculino</td>\n",
       "      <td>10</td>\n",
       "      <td>Sleepwalker</td>\n",
       "      <td>1.73</td>\n",
       "    </tr>\n",
       "    <tr>\n",
       "      <th>6</th>\n",
       "      <td>Undjaskla97</td>\n",
       "      <td>20</td>\n",
       "      <td>Masculino</td>\n",
       "      <td>153</td>\n",
       "      <td>Mercenary Sabre</td>\n",
       "      <td>4.57</td>\n",
       "    </tr>\n",
       "    <tr>\n",
       "      <th>7</th>\n",
       "      <td>Iathenudil29</td>\n",
       "      <td>29</td>\n",
       "      <td>Feminino</td>\n",
       "      <td>169</td>\n",
       "      <td>Interrogator, Blood Blade of the Queen</td>\n",
       "      <td>3.32</td>\n",
       "    </tr>\n",
       "    <tr>\n",
       "      <th>8</th>\n",
       "      <td>Sondenasta63</td>\n",
       "      <td>25</td>\n",
       "      <td>Masculino</td>\n",
       "      <td>118</td>\n",
       "      <td>Ghost Reaver, Longsword of Magic</td>\n",
       "      <td>2.77</td>\n",
       "    </tr>\n",
       "    <tr>\n",
       "      <th>9</th>\n",
       "      <td>Hilaerin92</td>\n",
       "      <td>31</td>\n",
       "      <td>Masculino</td>\n",
       "      <td>99</td>\n",
       "      <td>Expiration, Warscythe Of Lost Worlds</td>\n",
       "      <td>4.53</td>\n",
       "    </tr>\n",
       "  </tbody>\n",
       "</table>\n",
       "</div>"
      ],
      "text/plain": [
       "          Login  Idade       Sexo  Item ID  \\\n",
       "0     Aelalis34     38  Masculino      165   \n",
       "1        Eolo46     21  Masculino      119   \n",
       "2   Assastnya25     34  Masculino      174   \n",
       "3  Pheusrical25     21  Masculino       92   \n",
       "4        Aela59     23  Masculino       63   \n",
       "5    Tanimnya91     20  Masculino       10   \n",
       "6   Undjaskla97     20  Masculino      153   \n",
       "7  Iathenudil29     29   Feminino      169   \n",
       "8  Sondenasta63     25  Masculino      118   \n",
       "9    Hilaerin92     31  Masculino       99   \n",
       "\n",
       "                                Nome do Item  Valor  \n",
       "0                Bone Crushing Silver Skewer   3.37  \n",
       "1  Stormbringer, Dark Blade of Ending Misery   2.32  \n",
       "2                            Primitive Blade   2.46  \n",
       "3                               Final Critic   1.36  \n",
       "4                             Stormfury Mace   1.27  \n",
       "5                                Sleepwalker   1.73  \n",
       "6                            Mercenary Sabre   4.57  \n",
       "7     Interrogator, Blood Blade of the Queen   3.32  \n",
       "8           Ghost Reaver, Longsword of Magic   2.77  \n",
       "9       Expiration, Warscythe Of Lost Worlds   4.53  "
      ]
     },
     "execution_count": 2,
     "metadata": {},
     "output_type": "execute_result"
    }
   ],
   "source": [
    "# Carrega o arquivo\n",
    "load_file = \"dados_compras.json\"\n",
    "purchase_file = pd.read_json(load_file, orient = \"records\")\n",
    "purchase_file.head(10)"
   ]
  },
  {
   "cell_type": "markdown",
   "metadata": {},
   "source": [
    "## Informações Sobre os Consumidores e Análise Demográfica"
   ]
  },
  {
   "cell_type": "markdown",
   "metadata": {},
   "source": [
    "Conta-se um total de 573 consumidores únicos na base de dados com idade média de 22 anos e predominantemente do sexo masculino (81,15%)."
   ]
  },
  {
   "cell_type": "code",
   "execution_count": 3,
   "metadata": {},
   "outputs": [
    {
     "data": {
      "text/plain": [
       "573"
      ]
     },
     "execution_count": 3,
     "metadata": {},
     "output_type": "execute_result"
    }
   ],
   "source": [
    "# Número total de consumidores únicos\n",
    "unique_consumers = purchase_file[\"Login\"].unique()\n",
    "unique_consumers.size"
   ]
  },
  {
   "cell_type": "code",
   "execution_count": 4,
   "metadata": {},
   "outputs": [
    {
     "name": "stdout",
     "output_type": "stream",
     "text": [
      "Média das Idades:  22.603839441535776\n",
      "Mediana das Idades:  22.0\n"
     ]
    }
   ],
   "source": [
    "# Idade dos consumidores\n",
    "ages = [purchase_file[purchase_file[\"Login\"] == consumer][\"Idade\"].values[0] for consumer in unique_consumers]\n",
    "ages.sort()\n",
    "\n",
    "print(\"Média das Idades: \", np.mean(ages))\n",
    "print(\"Mediana das Idades: \", np.median(ages))"
   ]
  },
  {
   "cell_type": "code",
   "execution_count": 5,
   "metadata": {},
   "outputs": [
    {
     "name": "stdout",
     "output_type": "stream",
     "text": [
      "Gênero Masculino\n",
      "Quantidade:  465\n",
      "Porcentagem:  81.15\n",
      "Média das Idades:  22.62\n",
      "Mediana das Idades:  22.0\n",
      "\n",
      "Gênero Feminino\n",
      "Quantidade:  100\n",
      "Porcentagem:  17.45\n",
      "Média das Idades:  22.26\n",
      "Mediana das Idades:  22.0\n",
      "\n",
      "Outros\n",
      "Quantidade:  8\n",
      "Porcentagem:  1.4\n",
      "Média das Idades:  25.88\n",
      "Mediana das Idades:  26.5\n"
     ]
    }
   ],
   "source": [
    "# Gênero dos consumidores\n",
    "ages = [purchase_file[purchase_file[\"Login\"] == consumer][\"Idade\"].values[0] for consumer in unique_consumers]\n",
    "genders = [purchase_file[purchase_file[\"Login\"] == consumer][\"Sexo\"].values[0] for consumer in unique_consumers]\n",
    "\n",
    "print(\"Gênero Masculino\")\n",
    "print(\"Quantidade: \", genders.count(\"Masculino\"))\n",
    "print(\"Porcentagem: \", round(genders.count(\"Masculino\") / len(genders) * 100, 2))\n",
    "ages_by_gender = [ages[i] for i, gender in enumerate(genders) if gender == \"Masculino\"]\n",
    "ages_by_gender.sort()\n",
    "print(\"Média das Idades: \", round(np.mean(ages_by_gender), 2))\n",
    "print(\"Mediana das Idades: \", np.median(ages_by_gender))\n",
    "\n",
    "print(\"\\nGênero Feminino\")\n",
    "print(\"Quantidade: \", genders.count(\"Feminino\"))\n",
    "print(\"Porcentagem: \", round(genders.count(\"Feminino\") / len(genders) * 100, 2))\n",
    "ages_by_gender = [ages[i] for i, gender in enumerate(genders) if gender == \"Feminino\"]\n",
    "ages_by_gender.sort()\n",
    "print(\"Média das Idades: \", round(np.mean(ages_by_gender), 2))\n",
    "print(\"Mediana das Idades: \", np.median(ages_by_gender))\n",
    "\n",
    "print(\"\\nOutros / Não Divulgado\")\n",
    "print(\"Quantidade: \", genders.count(\"Outro / Não Divulgado\"))\n",
    "print(\"Porcentagem: \", round(genders.count(\"Outro / Não Divulgado\") / len(genders) * 100, 2))\n",
    "ages_by_gender = [ages[i] for i, gender in enumerate(genders) if gender == \"Outro / Não Divulgado\"]\n",
    "ages_by_gender.sort()\n",
    "print(\"Média das Idades: \", round(np.mean(ages_by_gender), 2))\n",
    "print(\"Mediana das Idades: \", np.median(ages_by_gender))"
   ]
  },
  {
   "cell_type": "markdown",
   "metadata": {},
   "source": [
    "## Análise Geral de Compras"
   ]
  },
  {
   "cell_type": "markdown",
   "metadata": {},
   "source": [
    "Na base de dados existem 183 itens únicos.\n",
    "\n",
    "Foram realizadas 780 compras somando 2.286,33 unidades monetárias com valor médio de compra de 2,93 unidades monetárias."
   ]
  },
  {
   "cell_type": "code",
   "execution_count": 32,
   "metadata": {},
   "outputs": [
    {
     "data": {
      "text/plain": [
       "183"
      ]
     },
     "execution_count": 32,
     "metadata": {},
     "output_type": "execute_result"
    }
   ],
   "source": [
    "# Número de itens exclusivos\n",
    "purchase_file[\"Item ID\"].nunique()"
   ]
  },
  {
   "cell_type": "code",
   "execution_count": 7,
   "metadata": {},
   "outputs": [
    {
     "data": {
      "text/plain": [
       "2.93"
      ]
     },
     "execution_count": 7,
     "metadata": {},
     "output_type": "execute_result"
    }
   ],
   "source": [
    "# Preço médio de compra\n",
    "round(np.sum(purchase_file[\"Valor\"]) / purchase_file.shape[0], 2)"
   ]
  },
  {
   "cell_type": "code",
   "execution_count": 8,
   "metadata": {},
   "outputs": [
    {
     "data": {
      "text/plain": [
       "780"
      ]
     },
     "execution_count": 8,
     "metadata": {},
     "output_type": "execute_result"
    }
   ],
   "source": [
    "# Número total de compras\n",
    "purchase_file.shape[0]"
   ]
  },
  {
   "cell_type": "code",
   "execution_count": 9,
   "metadata": {},
   "outputs": [
    {
     "data": {
      "text/plain": [
       "2286.33"
      ]
     },
     "execution_count": 9,
     "metadata": {},
     "output_type": "execute_result"
    }
   ],
   "source": [
    "# Rendimento total\n",
    "np.sum(purchase_file[\"Valor\"]) "
   ]
  },
  {
   "cell_type": "markdown",
   "metadata": {},
   "source": [
    "## Análise de Compras Por Gênero"
   ]
  },
  {
   "cell_type": "code",
   "execution_count": 17,
   "metadata": {},
   "outputs": [
    {
     "name": "stdout",
     "output_type": "stream",
     "text": [
      "Quantidade de Compras feitas por consumidores do sexo Masculino:  633\n",
      "Quantidade de Compras feitas por consumidores do sexo Feminino:  136\n",
      "Quantidade de Compras feitas por consumidores com outro gênero ou que preferiram não informar:  11\n"
     ]
    }
   ],
   "source": [
    "# Número de compras\n",
    "print(\"Quantidade de compras feitas por consumidores do sexo Masculino: \", purchase_file[purchase_file[\"Sexo\"] == \"Masculino\"][\"Item ID\"].count())\n",
    "print(\"Quantidade de compras feitas por consumidores do sexo Feminino: \", purchase_file[purchase_file[\"Sexo\"] == \"Feminino\"][\"Item ID\"].count())\n",
    "print(\"Quantidade de compras feitas por consumidores com outro gênero ou que preferiram não informar: \", purchase_file[purchase_file[\"Sexo\"] == \"Outro / Não Divulgado\"][\"Item ID\"].count())"
   ]
  },
  {
   "cell_type": "code",
   "execution_count": 18,
   "metadata": {},
   "outputs": [
    {
     "name": "stdout",
     "output_type": "stream",
     "text": [
      "Preço médio das Compras feitas por consumidores do sexo Masculino:  2.95\n",
      "Preço médio das Compras feitas por consumidores do sexo Feminino:  2.82\n",
      "Preço médio das Compras feitas por consumidores com outro gênero ou que preferiram não informar:  3.25\n"
     ]
    }
   ],
   "source": [
    "# Preço médio de compra\n",
    "print(\"Preço médio das compras feitas por consumidores do sexo Masculino: \", round(np.mean(purchase_file[purchase_file[\"Sexo\"] == \"Masculino\"][\"Valor\"]), 2))\n",
    "print(\"Preço médio das compras feitas por consumidores do sexo Feminino: \", round(np.mean(purchase_file[purchase_file[\"Sexo\"] == \"Feminino\"][\"Valor\"]), 2))\n",
    "print(\"Preço médio das compras feitas por consumidores com outro gênero ou que preferiram não informar: \", round(np.mean(purchase_file[purchase_file[\"Sexo\"] == \"Outro / Não Divulgado\"][\"Valor\"]), 2))"
   ]
  },
  {
   "cell_type": "code",
   "execution_count": 20,
   "metadata": {},
   "outputs": [
    {
     "name": "stdout",
     "output_type": "stream",
     "text": [
      "Valor total de compras feitas por consumidores do sexo Masculino:  1867.68\n",
      "Valor total de compras feitas por consumidores do sexo Feminino:  382.91\n",
      "Valor total de compras feitas por consumidores com outro gênero ou que preferiram não informar:  35.74\n"
     ]
    }
   ],
   "source": [
    "# Valor Total de Compra\n",
    "print(\"Valor total de compras feitas por consumidores do sexo Masculino: \", round(np.sum(purchase_file[purchase_file[\"Sexo\"] == \"Masculino\"][\"Valor\"]), 2))\n",
    "print(\"Valor total de compras feitas por consumidores do sexo Feminino: \", round(np.sum(purchase_file[purchase_file[\"Sexo\"] == \"Feminino\"][\"Valor\"]), 2))\n",
    "print(\"Valor total de compras feitas por consumidores com outro gênero ou que preferiram não informar: \", round(np.sum(purchase_file[purchase_file[\"Sexo\"] == \"Outro / Não Divulgado\"][\"Valor\"]), 2))"
   ]
  },
  {
   "cell_type": "code",
   "execution_count": 30,
   "metadata": {},
   "outputs": [
    {
     "name": "stdout",
     "output_type": "stream",
     "text": [
      "Gênero Masculino\n",
      "0 - 9 anos:  15\n",
      "10 - 19 anos:  98\n",
      "20 - 29 anos:  283\n",
      "30 - 39 anos:  60\n",
      "40 - 49 anos:  9\n",
      "50 - 59 anos:  0\n",
      "\n",
      "Gênero Feminino\n",
      "0 - 9 anos:  4\n",
      "10 - 19 anos:  24\n",
      "20 - 29 anos:  59\n",
      "30 - 39 anos:  11\n",
      "40 - 49 anos:  2\n",
      "50 - 59 anos:  0\n",
      "\n",
      "Outros / Não Divulgado\n",
      "0 - 9 anos:  0\n",
      "10 - 19 anos:  1\n",
      "20 - 29 anos:  4\n",
      "30 - 39 anos:  3\n",
      "40 - 49 anos:  0\n",
      "50 - 59 anos:  0\n"
     ]
    }
   ],
   "source": [
    "# Compras for faixa etária\n",
    "print(\"Gênero Masculino\")\n",
    "ages_by_gender = [ages[i] for i, gender in enumerate(genders) if gender == \"Masculino\"]\n",
    "ages_by_gender.sort()\n",
    "print(\"0 - 9 anos: \", len(list(filter(lambda x : x < 10, ages_by_gender))))\n",
    "print(\"10 - 19 anos: \", len(list(filter(lambda x : x > 9 and x < 20, ages_by_gender))))\n",
    "print(\"20 - 29 anos: \", len(list(filter(lambda x : x > 19 and x < 30, ages_by_gender))))\n",
    "print(\"30 - 39 anos: \", len(list(filter(lambda x : x > 29 and x < 40, ages_by_gender))))\n",
    "print(\"40 - 49 anos: \", len(list(filter(lambda x : x > 39 and x < 50, ages_by_gender))))\n",
    "print(\"50 - 59 anos: \", len(list(filter(lambda x : x > 49 and x < 60, ages_by_gender))))\n",
    "\n",
    "print(\"\\nGênero Feminino\")\n",
    "ages_by_gender = [ages[i] for i, gender in enumerate(genders) if gender == \"Feminino\"]\n",
    "ages_by_gender.sort()\n",
    "print(\"0 - 9 anos: \", len(list(filter(lambda x : x < 10, ages_by_gender))))\n",
    "print(\"10 - 19 anos: \", len(list(filter(lambda x : x > 9 and x < 20, ages_by_gender))))\n",
    "print(\"20 - 29 anos: \", len(list(filter(lambda x : x > 19 and x < 30, ages_by_gender))))\n",
    "print(\"30 - 39 anos: \", len(list(filter(lambda x : x > 29 and x < 40, ages_by_gender))))\n",
    "print(\"40 - 49 anos: \", len(list(filter(lambda x : x > 39 and x < 50, ages_by_gender))))\n",
    "print(\"50 - 59 anos: \", len(list(filter(lambda x : x > 49 and x < 60, ages_by_gender))))\n",
    "\n",
    "print(\"\\nOutros / Não Divulgado\")\n",
    "ages_by_gender = [ages[i] for i, gender in enumerate(genders) if gender == \"Outro / Não Divulgado\"]\n",
    "ages_by_gender.sort()\n",
    "print(\"0 - 9 anos: \", len(list(filter(lambda x : x < 10, ages_by_gender))))\n",
    "print(\"10 - 19 anos: \", len(list(filter(lambda x : x > 9 and x < 20, ages_by_gender))))\n",
    "print(\"20 - 29 anos: \", len(list(filter(lambda x : x > 19 and x < 30, ages_by_gender))))\n",
    "print(\"30 - 39 anos: \", len(list(filter(lambda x : x > 29 and x < 40, ages_by_gender))))\n",
    "print(\"40 - 49 anos: \", len(list(filter(lambda x : x > 39 and x < 50, ages_by_gender))))\n",
    "print(\"50 - 59 anos: \", len(list(filter(lambda x : x > 49 and x < 60, ages_by_gender))))"
   ]
  },
  {
   "cell_type": "markdown",
   "metadata": {},
   "source": [
    "## Consumidores Mais Populares (Top 5)"
   ]
  },
  {
   "cell_type": "markdown",
   "metadata": {},
   "source": [
    "**Identifique os 5 principais compradores pelo valor total de compra e, em seguida, liste (em uma tabela):**\n",
    "\n",
    "* Login\n",
    "* Número de compras\n",
    "* Preço médio de compra\n",
    "* Valor Total de Compra\n",
    "* Itens mais populares"
   ]
  },
  {
   "cell_type": "code",
   "execution_count": 123,
   "metadata": {},
   "outputs": [
    {
     "data": {
      "text/plain": [
       "{'Undirrala66': 17.06,\n",
       " 'Saedue76': 13.56,\n",
       " 'Mindimnya67': 12.74,\n",
       " 'Haellysu29': 12.73,\n",
       " 'Eoda93': 11.58}"
      ]
     },
     "execution_count": 123,
     "metadata": {},
     "output_type": "execute_result"
    }
   ],
   "source": [
    "money_spent = {consumer:np.sum(purchase_file[purchase_file[\"Login\"] == consumer][\"Valor\"]) for consumer in unique_consumers}\n",
    "money_spent = sorted(money_spent.items(), key=lambda x: x[1], reverse=True)\n",
    "money_spent = {k:round(v, 2) for (k, v) in money_spent[:5]}\n",
    "money_spent"
   ]
  },
  {
   "cell_type": "code",
   "execution_count": 127,
   "metadata": {},
   "outputs": [
    {
     "data": {
      "text/html": [
       "<div>\n",
       "<style scoped>\n",
       "    .dataframe tbody tr th:only-of-type {\n",
       "        vertical-align: middle;\n",
       "    }\n",
       "\n",
       "    .dataframe tbody tr th {\n",
       "        vertical-align: top;\n",
       "    }\n",
       "\n",
       "    .dataframe thead th {\n",
       "        text-align: right;\n",
       "    }\n",
       "</style>\n",
       "<table border=\"1\" class=\"dataframe\">\n",
       "  <thead>\n",
       "    <tr style=\"text-align: right;\">\n",
       "      <th></th>\n",
       "      <th>Login</th>\n",
       "      <th>Num de Compras</th>\n",
       "      <th>Preço Médio</th>\n",
       "      <th>Total</th>\n",
       "      <th>Itens</th>\n",
       "    </tr>\n",
       "  </thead>\n",
       "  <tbody>\n",
       "    <tr>\n",
       "      <th>0</th>\n",
       "      <td>Undirrala66</td>\n",
       "      <td>30</td>\n",
       "      <td>3.41</td>\n",
       "      <td>17.06</td>\n",
       "      <td>[Blood Infused Guardian, Spectral Diamond Doom...</td>\n",
       "    </tr>\n",
       "    <tr>\n",
       "      <th>1</th>\n",
       "      <td>Saedue76</td>\n",
       "      <td>24</td>\n",
       "      <td>3.39</td>\n",
       "      <td>13.56</td>\n",
       "      <td>[Serenity, Striker, Thorn, Satchel of Dark Sou...</td>\n",
       "    </tr>\n",
       "    <tr>\n",
       "      <th>2</th>\n",
       "      <td>Mindimnya67</td>\n",
       "      <td>24</td>\n",
       "      <td>3.18</td>\n",
       "      <td>12.74</td>\n",
       "      <td>[Striker, Thunderfury Scimitar, Fiery Glass Cr...</td>\n",
       "    </tr>\n",
       "    <tr>\n",
       "      <th>3</th>\n",
       "      <td>Haellysu29</td>\n",
       "      <td>18</td>\n",
       "      <td>4.24</td>\n",
       "      <td>12.73</td>\n",
       "      <td>[Blood-Forged Skeletal Spine, Thirsty Iron Rea...</td>\n",
       "    </tr>\n",
       "    <tr>\n",
       "      <th>4</th>\n",
       "      <td>Eoda93</td>\n",
       "      <td>18</td>\n",
       "      <td>3.86</td>\n",
       "      <td>11.58</td>\n",
       "      <td>[Heartless Bone Dualblade, Stormfury Longsword...</td>\n",
       "    </tr>\n",
       "  </tbody>\n",
       "</table>\n",
       "</div>"
      ],
      "text/plain": [
       "         Login  Num de Compras  Preço Médio  Total  \\\n",
       "0  Undirrala66              30         3.41  17.06   \n",
       "1     Saedue76              24         3.39  13.56   \n",
       "2  Mindimnya67              24         3.18  12.74   \n",
       "3   Haellysu29              18         4.24  12.73   \n",
       "4       Eoda93              18         3.86  11.58   \n",
       "\n",
       "                                               Itens  \n",
       "0  [Blood Infused Guardian, Spectral Diamond Doom...  \n",
       "1  [Serenity, Striker, Thorn, Satchel of Dark Sou...  \n",
       "2  [Striker, Thunderfury Scimitar, Fiery Glass Cr...  \n",
       "3  [Blood-Forged Skeletal Spine, Thirsty Iron Rea...  \n",
       "4  [Heartless Bone Dualblade, Stormfury Longsword...  "
      ]
     },
     "metadata": {},
     "output_type": "display_data"
    }
   ],
   "source": [
    "num_items = []\n",
    "mean_price = []\n",
    "items = []\n",
    "for k in money_spent:\n",
    "  num_items.append(purchase_file[purchase_file[\"Login\"] == k].size)\n",
    "  mean_price.append(round(np.mean(purchase_file[purchase_file[\"Login\"] == k][\"Valor\"]), 2))\n",
    "  items.append([x for x in purchase_file[purchase_file[\"Login\"] == k][\"Nome do Item\"] if x not in items])\n",
    "\n",
    "top_5 = pd.DataFrame()\n",
    "\n",
    "top_5[\"Login\"] = money_spent.keys()\n",
    "top_5[\"Num de Compras\"] = num_items\n",
    "top_5[\"Preço Médio\"] = mean_price\n",
    "top_5[\"Total\"] = money_spent.values()\n",
    "top_5[\"Itens\"] = items\n",
    "\n",
    "display(top_5)"
   ]
  },
  {
   "cell_type": "markdown",
   "metadata": {},
   "source": [
    "## Itens Mais Populares"
   ]
  },
  {
   "cell_type": "markdown",
   "metadata": {},
   "source": [
    "\n",
    "**Identifique os 5 itens mais populares por contagem de compras e, em seguida, liste (em uma tabela):**\n",
    "\n",
    "* ID do item\n",
    "* Nome do item\n",
    "* Número de compras\n",
    "* Preço do item\n",
    "* Valor Total de Compra"
   ]
  },
  {
   "cell_type": "code",
   "execution_count": 154,
   "metadata": {},
   "outputs": [],
   "source": [
    "unique_items = purchase_file[\"Item ID\"].unique()\n",
    "items = {item:len(purchase_file[purchase_file[\"Item ID\"] == item].values) for item in unique_items}\n",
    "items = sorted(items.items(), key=lambda x : x[1], reverse=True)\n",
    "items = {k:v for (k, v) in items[:5]}"
   ]
  },
  {
   "cell_type": "code",
   "execution_count": 163,
   "metadata": {},
   "outputs": [
    {
     "data": {
      "text/html": [
       "<div>\n",
       "<style scoped>\n",
       "    .dataframe tbody tr th:only-of-type {\n",
       "        vertical-align: middle;\n",
       "    }\n",
       "\n",
       "    .dataframe tbody tr th {\n",
       "        vertical-align: top;\n",
       "    }\n",
       "\n",
       "    .dataframe thead th {\n",
       "        text-align: right;\n",
       "    }\n",
       "</style>\n",
       "<table border=\"1\" class=\"dataframe\">\n",
       "  <thead>\n",
       "    <tr style=\"text-align: right;\">\n",
       "      <th></th>\n",
       "      <th>Item ID</th>\n",
       "      <th>Nome</th>\n",
       "      <th>Número de Compras</th>\n",
       "      <th>Preço</th>\n",
       "      <th>Total</th>\n",
       "    </tr>\n",
       "  </thead>\n",
       "  <tbody>\n",
       "    <tr>\n",
       "      <th>0</th>\n",
       "      <td>39</td>\n",
       "      <td>Betrayal, Whisper of Grieving Widows</td>\n",
       "      <td>11</td>\n",
       "      <td>2.35</td>\n",
       "      <td>25.85</td>\n",
       "    </tr>\n",
       "    <tr>\n",
       "      <th>1</th>\n",
       "      <td>84</td>\n",
       "      <td>Arcane Gem</td>\n",
       "      <td>11</td>\n",
       "      <td>2.23</td>\n",
       "      <td>24.53</td>\n",
       "    </tr>\n",
       "    <tr>\n",
       "      <th>2</th>\n",
       "      <td>13</td>\n",
       "      <td>Serenity</td>\n",
       "      <td>9</td>\n",
       "      <td>1.49</td>\n",
       "      <td>13.41</td>\n",
       "    </tr>\n",
       "    <tr>\n",
       "      <th>3</th>\n",
       "      <td>31</td>\n",
       "      <td>Trickster</td>\n",
       "      <td>9</td>\n",
       "      <td>2.07</td>\n",
       "      <td>18.63</td>\n",
       "    </tr>\n",
       "    <tr>\n",
       "      <th>4</th>\n",
       "      <td>34</td>\n",
       "      <td>Retribution Axe</td>\n",
       "      <td>9</td>\n",
       "      <td>4.14</td>\n",
       "      <td>37.26</td>\n",
       "    </tr>\n",
       "  </tbody>\n",
       "</table>\n",
       "</div>"
      ],
      "text/plain": [
       "   Item ID                                  Nome  Número de Compras  Preço  \\\n",
       "0       39  Betrayal, Whisper of Grieving Widows                 11   2.35   \n",
       "1       84                            Arcane Gem                 11   2.23   \n",
       "2       13                              Serenity                  9   1.49   \n",
       "3       31                             Trickster                  9   2.07   \n",
       "4       34                       Retribution Axe                  9   4.14   \n",
       "\n",
       "   Total  \n",
       "0  25.85  \n",
       "1  24.53  \n",
       "2  13.41  \n",
       "3  18.63  \n",
       "4  37.26  "
      ]
     },
     "metadata": {},
     "output_type": "display_data"
    }
   ],
   "source": [
    "items_name = []\n",
    "items_price = []\n",
    "items_total = []\n",
    "for k in items:\n",
    "  items_name.append(purchase_file[purchase_file[\"Item ID\"] == k][\"Nome do Item\"].values[0])\n",
    "  items_price.append(purchase_file[purchase_file[\"Item ID\"] == k][\"Valor\"].values[0])\n",
    "  items_total.append(round(np.sum(purchase_file[purchase_file[\"Item ID\"] == k][\"Valor\"]), 2))\n",
    "\n",
    "top_5 = pd.DataFrame()\n",
    "top_5[\"Item ID\"] = items.keys()\n",
    "top_5[\"Nome\"] = items_name\n",
    "top_5[\"Número de Compras\"] = items.values()\n",
    "top_5[\"Preço\"] = items_price\n",
    "top_5[\"Total\"] = items_total\n",
    "\n",
    "display(top_5)\n"
   ]
  },
  {
   "cell_type": "markdown",
   "metadata": {},
   "source": [
    "## Itens Mais Lucrativos"
   ]
  },
  {
   "cell_type": "markdown",
   "metadata": {},
   "source": [
    "**Identifique os 5 itens mais lucrativos pelo valor total de compra e, em seguida, liste (em uma tabela):**\n",
    "\n",
    "* ID do item\n",
    "* Nome do item\n",
    "* Número de compras\n",
    "* Preço do item\n",
    "* Valor Total de Compra"
   ]
  },
  {
   "cell_type": "code",
   "execution_count": 167,
   "metadata": {},
   "outputs": [
    {
     "data": {
      "text/plain": [
       "{34: 37.26, 115: 29.75, 32: 29.7, 103: 29.22, 107: 28.88}"
      ]
     },
     "execution_count": 167,
     "metadata": {},
     "output_type": "execute_result"
    }
   ],
   "source": [
    "items = {item:round(np.sum(purchase_file[purchase_file[\"Item ID\"] == item][\"Valor\"]), 2) for item in unique_items}\n",
    "items = sorted(items.items(), key=lambda x : x[1], reverse=True)\n",
    "items = {k:v for (k, v) in items[:5]}\n",
    "items"
   ]
  },
  {
   "cell_type": "code",
   "execution_count": 168,
   "metadata": {},
   "outputs": [
    {
     "data": {
      "text/html": [
       "<div>\n",
       "<style scoped>\n",
       "    .dataframe tbody tr th:only-of-type {\n",
       "        vertical-align: middle;\n",
       "    }\n",
       "\n",
       "    .dataframe tbody tr th {\n",
       "        vertical-align: top;\n",
       "    }\n",
       "\n",
       "    .dataframe thead th {\n",
       "        text-align: right;\n",
       "    }\n",
       "</style>\n",
       "<table border=\"1\" class=\"dataframe\">\n",
       "  <thead>\n",
       "    <tr style=\"text-align: right;\">\n",
       "      <th></th>\n",
       "      <th>Item ID</th>\n",
       "      <th>Nome</th>\n",
       "      <th>Número de Compras</th>\n",
       "      <th>Preço</th>\n",
       "      <th>Total</th>\n",
       "    </tr>\n",
       "  </thead>\n",
       "  <tbody>\n",
       "    <tr>\n",
       "      <th>0</th>\n",
       "      <td>34</td>\n",
       "      <td>Retribution Axe</td>\n",
       "      <td>9</td>\n",
       "      <td>4.14</td>\n",
       "      <td>37.26</td>\n",
       "    </tr>\n",
       "    <tr>\n",
       "      <th>1</th>\n",
       "      <td>115</td>\n",
       "      <td>Spectral Diamond Doomblade</td>\n",
       "      <td>7</td>\n",
       "      <td>4.25</td>\n",
       "      <td>29.75</td>\n",
       "    </tr>\n",
       "    <tr>\n",
       "      <th>2</th>\n",
       "      <td>32</td>\n",
       "      <td>Orenmir</td>\n",
       "      <td>6</td>\n",
       "      <td>4.95</td>\n",
       "      <td>29.70</td>\n",
       "    </tr>\n",
       "    <tr>\n",
       "      <th>3</th>\n",
       "      <td>103</td>\n",
       "      <td>Singed Scalpel</td>\n",
       "      <td>6</td>\n",
       "      <td>4.87</td>\n",
       "      <td>29.22</td>\n",
       "    </tr>\n",
       "    <tr>\n",
       "      <th>4</th>\n",
       "      <td>107</td>\n",
       "      <td>Splitter, Foe Of Subtlety</td>\n",
       "      <td>8</td>\n",
       "      <td>3.61</td>\n",
       "      <td>28.88</td>\n",
       "    </tr>\n",
       "  </tbody>\n",
       "</table>\n",
       "</div>"
      ],
      "text/plain": [
       "   Item ID                        Nome  Número de Compras  Preço  Total\n",
       "0       34             Retribution Axe                  9   4.14  37.26\n",
       "1      115  Spectral Diamond Doomblade                  7   4.25  29.75\n",
       "2       32                     Orenmir                  6   4.95  29.70\n",
       "3      103              Singed Scalpel                  6   4.87  29.22\n",
       "4      107   Splitter, Foe Of Subtlety                  8   3.61  28.88"
      ]
     },
     "metadata": {},
     "output_type": "display_data"
    }
   ],
   "source": [
    "items_name = []\n",
    "items_price = []\n",
    "items_quantity = []\n",
    "for k in items:\n",
    "  items_name.append(purchase_file[purchase_file[\"Item ID\"] == k][\"Nome do Item\"].values[0])\n",
    "  items_price.append(purchase_file[purchase_file[\"Item ID\"] == k][\"Valor\"].values[0])\n",
    "  items_quantity.append(len(purchase_file[purchase_file[\"Item ID\"] == k][\"Valor\"]))\n",
    "\n",
    "top_5 = pd.DataFrame()\n",
    "top_5[\"Item ID\"] = items.keys()\n",
    "top_5[\"Nome\"] = items_name\n",
    "top_5[\"Número de Compras\"] = items_quantity\n",
    "top_5[\"Preço\"] = items_price\n",
    "top_5[\"Total\"] = items.values()\n",
    "\n",
    "display(top_5)"
   ]
  },
  {
   "cell_type": "markdown",
   "metadata": {
    "collapsed": true
   },
   "source": [
    "## Fim"
   ]
  },
  {
   "cell_type": "markdown",
   "metadata": {
    "collapsed": true
   },
   "source": [
    "\n",
    "### Obrigado\n",
    "\n",
    "### Visite o Blog da Data Science Academy - <a href=\"http://blog.dsacademy.com.br\">Blog DSA</a>\n"
   ]
  }
 ],
 "metadata": {
  "kernelspec": {
   "display_name": "Python 3",
   "language": "python",
   "name": "python3"
  },
  "language_info": {
   "codemirror_mode": {
    "name": "ipython",
    "version": 3
   },
   "file_extension": ".py",
   "mimetype": "text/x-python",
   "name": "python",
   "nbconvert_exporter": "python",
   "pygments_lexer": "ipython3",
   "version": "3.9.7"
  }
 },
 "nbformat": 4,
 "nbformat_minor": 2
}
