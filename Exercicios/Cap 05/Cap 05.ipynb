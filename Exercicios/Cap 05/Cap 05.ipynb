{
 "cells": [
  {
   "cell_type": "markdown",
   "metadata": {},
   "source": [
    "# Data Science Academy - Python Fundamentos - Capítulo 5\n",
    "\n",
    "---"
   ]
  },
  {
   "cell_type": "markdown",
   "metadata": {},
   "source": [
    "## Exercício 1\n",
    "\n",
    "Crie um objeto a partir da classe abaixo, chamado roc1, passando 2 parâmetros e depois faça uma chamada aos atributos e métodos"
   ]
  },
  {
   "cell_type": "code",
   "execution_count": 3,
   "metadata": {},
   "outputs": [
    {
     "name": "stdout",
     "output_type": "stream",
     "text": [
      "1 1\n",
      "3 6\n"
     ]
    }
   ],
   "source": [
    "from math import sqrt\n",
    "\n",
    "class Rocket():\n",
    "  def __init__(self, x=0, y=0):\n",
    "    self.x = x\n",
    "    self.y = y\n",
    "      \n",
    "  def move_rocket(self, x_increment=0, y_increment=1):\n",
    "    self.x += x_increment\n",
    "    self.y += y_increment\n",
    "      \n",
    "  def print_rocket(self):\n",
    "    print(self.x, self.y)\n",
    "\n",
    "roc1 = Rocket(1, 1)\n",
    "roc1.print_rocket()\n",
    "roc1.move_rocket(2, 5)\n",
    "roc1.print_rocket()"
   ]
  },
  {
   "cell_type": "markdown",
   "metadata": {},
   "source": [
    "## Exercício 2\n",
    "\n",
    "Crie uma classe chamada Pessoa() com os atributos: nome, cidade, telefone e e-mail. Use pelo menos 2 métodos especiais na sua classe. Crie um objeto da sua classe e faça uma chamada a pelo menos um dos seus métodos especiais."
   ]
  },
  {
   "cell_type": "code",
   "execution_count": 6,
   "metadata": {},
   "outputs": [
    {
     "name": "stdout",
     "output_type": "stream",
     "text": [
      "Nome: João\n",
      "Cidade: Alagoinha\n",
      "Telefone: 61944445555\n",
      "E-mail: joao.alagoinha@email.com\n",
      "False\n"
     ]
    }
   ],
   "source": [
    "class Pessoa():\n",
    "  def __init__(self, nome, cidade, telefone, email):\n",
    "    self.nome = nome\n",
    "    self.cidade = cidade\n",
    "    self.telefone = telefone\n",
    "    self.email = email\n",
    "\n",
    "  def __str__(self):\n",
    "    return f\"Nome: {self.nome}\\nCidade: {self.cidade}\\nTelefone: {self.telefone}\\nE-mail: {self.email}\"\n",
    "\n",
    "  def __eq__(self, outro):\n",
    "    return self.nome == outro.nome and \\\n",
    "            self.cidade == outro.cidade and \\\n",
    "            self.telefone == outro.telefone and \\\n",
    "            self.email == outro.email\n",
    "\n",
    "p = Pessoa(\"João\", \"Alagoinha\", \"61944445555\", \"joao.alagoinha@email.com\")\n",
    "print(str(p))\n",
    "\n",
    "p1 = Pessoa(\"Joao\", \"Alagoinha\", \"61944445555\", \"joao.alagoinha@email.com\")\n",
    "print(p == p1)"
   ]
  },
  {
   "cell_type": "markdown",
   "metadata": {},
   "source": [
    "## Exercício 3\n",
    "\n",
    "Crie a classe Smartphone com 2 atributos, tamanho e interface e crie a classe MP3Player com os atributos capacidade. A classe MP3player deve herdar os atributos da classe Smartphone."
   ]
  },
  {
   "cell_type": "code",
   "execution_count": 8,
   "metadata": {},
   "outputs": [],
   "source": [
    "class Smartphone:\n",
    "  def __init__(self, tamanho, interface):\n",
    "    self.tamanho = tamanho\n",
    "    self.interface = interface\n",
    "\n",
    "class MP3Player(Smartphone):\n",
    "  def __init__(self, capacidade, tamanho = \"Pequeno\", interface = \"LED\"):\n",
    "    self.capacidade = capacidade\n",
    "    Smartphone.__init__(self, tamanho, interface)"
   ]
  }
 ],
 "metadata": {
  "interpreter": {
   "hash": "f0a6413ca0d9cd36fc361a8cda0830db7368a1e575212212067a1592f7a2e64b"
  },
  "kernelspec": {
   "display_name": "Python 3.9.7 ('base')",
   "language": "python",
   "name": "python3"
  },
  "language_info": {
   "codemirror_mode": {
    "name": "ipython",
    "version": 3
   },
   "file_extension": ".py",
   "mimetype": "text/x-python",
   "name": "python",
   "nbconvert_exporter": "python",
   "pygments_lexer": "ipython3",
   "version": "3.9.7"
  },
  "orig_nbformat": 4
 },
 "nbformat": 4,
 "nbformat_minor": 2
}
